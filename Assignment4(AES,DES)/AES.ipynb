{
 "cells": [
  {
   "cell_type": "code",
   "execution_count": 1,
   "id": "f0206d37-aa06-4f2a-941c-1c4ad120cac3",
   "metadata": {},
   "outputs": [
    {
     "name": "stdout",
     "output_type": "stream",
     "text": [
      "Requirement already satisfied: pycryptodome in c:\\users\\sai\\anaconda4\\lib\\site-packages (3.22.0)Note: you may need to restart the kernel to use updated packages.\n",
      "\n"
     ]
    }
   ],
   "source": [
    "pip install pycryptodome"
   ]
  },
  {
   "cell_type": "code",
   "execution_count": 2,
   "id": "a49ac0b4-645b-4dd8-a817-cad3a42f6b0b",
   "metadata": {},
   "outputs": [
    {
     "name": "stdin",
     "output_type": "stream",
     "text": [
      "Enter a 16-byte key:  hkjjdjfheiojschw\n",
      "Enter the message to encrypt:  hi i am Tanuja Pansare\n"
     ]
    },
    {
     "name": "stdout",
     "output_type": "stream",
     "text": [
      "Cipher text: 35cbccb27281c7c946e88661f54525a9129fd0f7994d\n",
      "Plain text: hi i am Tanuja Pansare\n"
     ]
    }
   ],
   "source": [
    "from Crypto.Cipher import AES\n",
    "import os\n",
    "\n",
    "key = input(\"Enter a 16-byte key: \").encode() \n",
    "\n",
    "if len(key) not in [16]:\n",
    "    print(\"Invalid key length! Key must be 16 bytes.\")\n",
    "    exit()\n",
    "\n",
    "cipherfun = AES.new(key, AES.MODE_EAX) \n",
    "\n",
    "m= input(\"Enter the message to encrypt: \")\n",
    "msg=m.encode()\n",
    "# Encryption function\n",
    "def encrypt(msg):\n",
    "    nonce = cipherfun.nonce  # Get nonce (needed for decryption)\n",
    "    ciphertext, tag = cipher.encrypt_and_digest(msg)\n",
    "    return nonce, ciphertext, tag\n",
    "\n",
    "# Decryption function\n",
    "def decrypt(nonce, ciphertext, tag):\n",
    "    cipherfun = AES.new(key, AES.MODE_EAX, nonce=nonce)  # Recreate cipher with nonce\n",
    "    plaintext = cipherfun.decrypt(ciphertext)\n",
    "    try:\n",
    "        cipher.verify(tag)  # Ensure integrity\n",
    "        return plaintext.decode()\n",
    "    except ValueError:\n",
    "        return False\n",
    "\n",
    "# Encrypt the message\n",
    "nonce, ciphertext, tag = encrypt(msg)\n",
    "print(f'Cipher text: {ciphertext.hex()}')\n",
    "\n",
    "# Decrypt and verify message\n",
    "plaintext = decrypt(nonce, ciphertext, tag)\n",
    "if not plaintext:\n",
    "    print('Message is not original!')\n",
    "else:\n",
    "    print(f'Plain text: {plaintext}')\n"
   ]
  },
  {
   "cell_type": "code",
   "execution_count": null,
   "id": "7f178177-8101-4e05-ab5b-ee2749e32541",
   "metadata": {},
   "outputs": [],
   "source": []
  }
 ],
 "metadata": {
  "kernelspec": {
   "display_name": "Python 3 (ipykernel)",
   "language": "python",
   "name": "python3"
  },
  "language_info": {
   "codemirror_mode": {
    "name": "ipython",
    "version": 3
   },
   "file_extension": ".py",
   "mimetype": "text/x-python",
   "name": "python",
   "nbconvert_exporter": "python",
   "pygments_lexer": "ipython3",
   "version": "3.11.7"
  }
 },
 "nbformat": 4,
 "nbformat_minor": 5
}
