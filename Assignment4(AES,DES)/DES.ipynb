{
 "cells": [
  {
   "cell_type": "code",
   "execution_count": 1,
   "id": "f0206d37-aa06-4f2a-941c-1c4ad120cac3",
   "metadata": {},
   "outputs": [
    {
     "name": "stdout",
     "output_type": "stream",
     "text": [
      "Requirement already satisfied: pycryptodome in c:\\users\\sai\\anaconda4\\lib\\site-packages (3.22.0)Note: you may need to restart the kernel to use updated packages.\n",
      "\n"
     ]
    }
   ],
   "source": [
    "pip install pycryptodome"
   ]
  },
  {
   "cell_type": "code",
   "execution_count": null,
   "id": "a49ac0b4-645b-4dd8-a817-cad3a42f6b0b",
   "metadata": {},
   "outputs": [],
   "source": [
    "from Crypto.Cipher import DES\n",
    "from secrets import token_bytes\n",
    "key = token_bytes(8)\n",
    "def encrypt(msg):\n",
    "    cipher = DES.new(key, DES.MODE_EAX)\n",
    "    nonce = cipher.nonce\n",
    "    ciphertext, tag = cipher.encrypt_and_digest(msg.encode('ascii'))\n",
    "    return nonce, ciphertext, tag\n",
    "def decrypt(nonce, ciphertext, tag):\n",
    "    cipher = DES.new(key, DES.MODE_EAX, nonce=nonce)\n",
    "    plaintext = cipher.decrypt(ciphertext)\n",
    "    try:\n",
    "        cipher.verify(tag)\n",
    "        return plaintext.decode('ascii')\n",
    "    except:\n",
    "        return False\n",
    "        \n",
    "nonce, ciphertext, tag = encrypt(input('Enter a message: '))\n",
    "plaintext = decrypt(nonce, ciphertext, tag)\n",
    "print(f'Cipher text: {ciphertext}')\n",
    "if not plaintext:\n",
    "    print('Message is corrupted!')\n",
    "else:\n",
    "    print(f'Plain text: {plaintext}')"
   ]
  },
  {
   "cell_type": "code",
   "execution_count": null,
   "id": "7f178177-8101-4e05-ab5b-ee2749e32541",
   "metadata": {},
   "outputs": [],
   "source": []
  }
 ],
 "metadata": {
  "kernelspec": {
   "display_name": "Python 3 (ipykernel)",
   "language": "python",
   "name": "python3"
  },
  "language_info": {
   "codemirror_mode": {
    "name": "ipython",
    "version": 3
   },
   "file_extension": ".py",
   "mimetype": "text/x-python",
   "name": "python",
   "nbconvert_exporter": "python",
   "pygments_lexer": "ipython3",
   "version": "3.11.7"
  }
 },
 "nbformat": 4,
 "nbformat_minor": 5
}
